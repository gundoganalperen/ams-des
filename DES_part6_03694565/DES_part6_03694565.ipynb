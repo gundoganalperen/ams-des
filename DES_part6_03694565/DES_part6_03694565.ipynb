{
 "cells": [
  {
   "cell_type": "markdown",
   "metadata": {},
   "source": [
    "## Programming Assignment - Part 6"
   ]
  },
  {
   "cell_type": "markdown",
   "metadata": {},
   "source": [
    "### 6 Statistic Tests "
   ]
  },
  {
   "cell_type": "code",
   "execution_count": 1,
   "metadata": {},
   "outputs": [],
   "source": [
    "import part6_simstudy"
   ]
  },
  {
   "cell_type": "markdown",
   "metadata": {},
   "source": [
    "#### 6.2 Verification"
   ]
  },
  {
   "cell_type": "code",
   "execution_count": 2,
   "metadata": {},
   "outputs": [
    {
     "name": "stdout",
     "output_type": "stream",
     "text": [
      "Alpha; 0.1 Bins; 1 Chi2;3.286766830846552e-11 Chi2 Table;nan Null hypothesis is not rejected: the samples follow the standard normal distribution\n",
      "Alpha; 0.1 Bins; 2 Chi2;1.0000005733363402 Chi2 Table;nan Null hypothesis is not rejected: the samples follow the standard normal distribution\n",
      "Alpha; 0.1 Bins; 5 Chi2;0.533180950263032 Chi2 Table;2.705543454095417 Null hypothesis is not rejected: the samples follow the standard normal distribution\n",
      "Alpha; 0.1 Bins; 10 Chi2;1.2489716570240013 Chi2 Table;4.605170185988092 Null hypothesis is not rejected: the samples follow the standard normal distribution\n",
      "Alpha; 0.1 Bins; 20 Chi2;6.946523219153302 Chi2 Table;10.64464067566842 Null hypothesis is not rejected: the samples follow the standard normal distribution\n",
      "Alpha; 0.1 Bins; 30 Chi2;3.444691066295358 Chi2 Table;13.36156613651173 Null hypothesis is not rejected: the samples follow the standard normal distribution\n",
      "Alpha; 0.05 Bins; 1 Chi2;3.286766830846552e-11 Chi2 Table;nan Null hypothesis is not rejected: the samples follow the standard normal distribution\n",
      "Alpha; 0.05 Bins; 2 Chi2;1.0000005733363402 Chi2 Table;nan Null hypothesis is not rejected: the samples follow the standard normal distribution\n",
      "Alpha; 0.05 Bins; 5 Chi2;0.533180950263032 Chi2 Table;3.8414588206941236 Null hypothesis is not rejected: the samples follow the standard normal distribution\n",
      "Alpha; 0.05 Bins; 10 Chi2;1.2489716570240013 Chi2 Table;5.99146454710798 Null hypothesis is not rejected: the samples follow the standard normal distribution\n",
      "Alpha; 0.05 Bins; 20 Chi2;6.946523219153302 Chi2 Table;12.591587243743977 Null hypothesis is not rejected: the samples follow the standard normal distribution\n",
      "Alpha; 0.05 Bins; 30 Chi2;3.444691066295358 Chi2 Table;15.507313055865453 Null hypothesis is not rejected: the samples follow the standard normal distribution\n",
      "Alpha; 0.01 Bins; 1 Chi2;3.286766830846552e-11 Chi2 Table;nan Null hypothesis is not rejected: the samples follow the standard normal distribution\n",
      "Alpha; 0.01 Bins; 2 Chi2;1.0000005733363402 Chi2 Table;nan Null hypothesis is not rejected: the samples follow the standard normal distribution\n",
      "Alpha; 0.01 Bins; 5 Chi2;0.533180950263032 Chi2 Table;6.634896601021213 Null hypothesis is not rejected: the samples follow the standard normal distribution\n",
      "Alpha; 0.01 Bins; 10 Chi2;1.2489716570240013 Chi2 Table;9.21034037197618 Null hypothesis is not rejected: the samples follow the standard normal distribution\n",
      "Alpha; 0.01 Bins; 20 Chi2;6.946523219153302 Chi2 Table;16.811893829770927 Null hypothesis is not rejected: the samples follow the standard normal distribution\n",
      "Alpha; 0.01 Bins; 30 Chi2;3.444691066295358 Chi2 Table;20.090235029663233 Null hypothesis is not rejected: the samples follow the standard normal distribution\n"
     ]
    }
   ],
   "source": [
    "part6_simstudy.task_6_2_1()"
   ]
  },
  {
   "cell_type": "markdown",
   "metadata": {},
   "source": [
    "#### 6.3 Analysis and General Questions"
   ]
  },
  {
   "cell_type": "markdown",
   "metadata": {},
   "source": [
    "##### Task 6.3.1: Chi Square Test"
   ]
  },
  {
   "cell_type": "markdown",
   "metadata": {},
   "source": [
    "* If we compare different alpha values e.g. Alpha; 0.1 Bins; 20, Chi2 Table;10.64464067566842 and Alpha; 0.01 Bins; 20 Chi2 Table;16.81189382977092, the rejection probability increases with higher significance alpha values.\n",
    "* Lower bin values dont provide Chi2 Table result which increase rejection probability and also, with higher bin numbers decrease rejection probability.\n",
    "* Comparing distributions with different mean and variance increases rejection probability."
   ]
  },
  {
   "cell_type": "code",
   "execution_count": null,
   "metadata": {},
   "outputs": [],
   "source": []
  }
 ],
 "metadata": {
  "kernelspec": {
   "display_name": "Python 3",
   "language": "python",
   "name": "python3"
  },
  "language_info": {
   "codemirror_mode": {
    "name": "ipython",
    "version": 3
   },
   "file_extension": ".py",
   "mimetype": "text/x-python",
   "name": "python",
   "nbconvert_exporter": "python",
   "pygments_lexer": "ipython3",
   "version": "3.6.4"
  }
 },
 "nbformat": 4,
 "nbformat_minor": 2
}
