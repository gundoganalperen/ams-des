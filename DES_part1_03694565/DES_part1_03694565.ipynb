{
 "cells": [
  {
   "cell_type": "markdown",
   "metadata": {},
   "source": [
    "# AMS - Programming Assignment - Part 1(Alperen Gündogan, 03694565)"
   ]
  },
  {
   "cell_type": "markdown",
   "metadata": {},
   "source": [
    "## 1.6 Analysis and General Questions"
   ]
  },
  {
   "cell_type": "markdown",
   "metadata": {},
   "source": [
    "### 1.6.1: Confidence"
   ]
  },
  {
   "cell_type": "markdown",
   "metadata": {},
   "source": [
    "Simulation can be runned multiple times with different seeds in order to have confidence. Then, we can average the results and obtain some statistical distributions."
   ]
  },
  {
   "cell_type": "markdown",
   "metadata": {},
   "source": [
    "### 1.6.2: Event Chain Structure"
   ]
  },
  {
   "cell_type": "markdown",
   "metadata": {},
   "source": [
    "Heaps have reasonably constant speed and they are also useful in big disk sorts. Also, the smallest element in heap is always the root, heap[0]. Therefore when we use heappop, we have always the oldest event in the queue."
   ]
  },
  {
   "cell_type": "markdown",
   "metadata": {},
   "source": [
    "### 1.6.3: Update Event Chain"
   ]
  },
  {
   "cell_type": "markdown",
   "metadata": {},
   "source": [
    "Customer Arrivals have a constant arrival time, therefore it can be implemented at the begining of the simulation. But inserting all arrivals at the same time would not be efficient for memory usage. \n",
    "\n",
    "Service Completions have a random service time for each event which make it hard to implement all service completions to at the beginning of the simulation. Also, updating the event chain provides us more realistic solution to understand the network traffic in real life. "
   ]
  },
  {
   "cell_type": "markdown",
   "metadata": {},
   "source": [
    "## 1.7 Simulation Study I"
   ]
  },
  {
   "cell_type": "code",
   "execution_count": 3,
   "metadata": {},
   "outputs": [],
   "source": [
    "import part1_simstudy"
   ]
  },
  {
   "cell_type": "markdown",
   "metadata": {},
   "source": [
    "### Task 1.7.1: Queue Length Determination I "
   ]
  },
  {
   "cell_type": "markdown",
   "metadata": {},
   "source": [
    "Idea: For each queue length, I have called the \"do_simulation.py\" function in simulation.py and I counted the loss packets which are less than 10 in 1000 Simulation runs. Then, I added extra for loop to run one more 1000 Simulation run to ensure the results and got the average success. "
   ]
  },
  {
   "cell_type": "code",
   "execution_count": 5,
   "metadata": {
    "scrolled": true
   },
   "outputs": [
    {
     "name": "stdout",
     "output_type": "stream",
     "text": [
      "Queue Size = 3 Success = 317 Number of Runs = 1000 Sim.Time = 100000ms\n",
      "Queue Size = 3 Success = 307 Number of Runs = 1000 Sim.Time = 100000ms\n",
      "Queue Size = 4 Success = 534 Number of Runs = 1000 Sim.Time = 100000ms\n",
      "Queue Size = 4 Success = 526 Number of Runs = 1000 Sim.Time = 100000ms\n",
      "Queue Size = 5 Success = 673 Number of Runs = 1000 Sim.Time = 100000ms\n",
      "Queue Size = 5 Success = 707 Number of Runs = 1000 Sim.Time = 100000ms\n",
      "Queue Size = 6 Success = 770 Number of Runs = 1000 Sim.Time = 100000ms\n",
      "Queue Size = 6 Success = 762 Number of Runs = 1000 Sim.Time = 100000ms\n",
      "Queue Size = 7 Success = 819 Number of Runs = 1000 Sim.Time = 100000ms\n",
      "Queue Size = 7 Success = 819 Number of Runs = 1000 Sim.Time = 100000ms\n",
      "Best queue size is = 7\n"
     ]
    },
    {
     "data": {
      "text/plain": [
       "7"
      ]
     },
     "execution_count": 5,
     "metadata": {},
     "output_type": "execute_result"
    }
   ],
   "source": [
    "part1_simstudy.task_1_7_1()"
   ]
  },
  {
   "cell_type": "markdown",
   "metadata": {},
   "source": [
    "### Task 1.7.2: Queue Length Determination II"
   ]
  },
  {
   "cell_type": "markdown",
   "metadata": {},
   "source": [
    "For 1000s simulation time, the best queue size became from 7 to 6. Therefore, it can be said that queue size depend on the simulation time.  "
   ]
  },
  {
   "cell_type": "code",
   "execution_count": 16,
   "metadata": {},
   "outputs": [
    {
     "name": "stdout",
     "output_type": "stream",
     "text": [
      "Queue Size = 3 Success = 3 Number of Runs = 100 Sim.Time = 1000000ms\n",
      "Queue Size = 3 Success = 2 Number of Runs = 100 Sim.Time = 1000000ms\n",
      "Queue Size = 4 Success = 44 Number of Runs = 100 Sim.Time = 1000000ms\n",
      "Queue Size = 4 Success = 46 Number of Runs = 100 Sim.Time = 1000000ms\n",
      "Queue Size = 5 Success = 79 Number of Runs = 100 Sim.Time = 1000000ms\n",
      "Queue Size = 5 Success = 77 Number of Runs = 100 Sim.Time = 1000000ms\n",
      "Queue Size = 6 Success = 91 Number of Runs = 100 Sim.Time = 1000000ms\n",
      "Queue Size = 6 Success = 87 Number of Runs = 100 Sim.Time = 1000000ms\n",
      "Best queue size is = 6\n"
     ]
    },
    {
     "data": {
      "text/plain": [
       "6"
      ]
     },
     "execution_count": 16,
     "metadata": {},
     "output_type": "execute_result"
    }
   ],
   "source": [
    "part1_simstudy.task_1_7_2()"
   ]
  },
  {
   "cell_type": "markdown",
   "metadata": {},
   "source": [
    "### Task 1.7.3: Comparison of Results"
   ]
  },
  {
   "cell_type": "markdown",
   "metadata": {},
   "source": [
    "If we compare the tasks 1.7.1 and 1.7.2, we can say that system can behave differently according to simulation time. Increasing simulation time provides more accurate results. CDF of the blocking probabilities become more smoother(without stairs) and have higher slope with the increasing time. Because, we can simulate more packets with higher simulation time."
   ]
  }
 ],
 "metadata": {
  "kernelspec": {
   "display_name": "Python 3",
   "language": "python",
   "name": "python3"
  }
 },
 "nbformat": 4,
 "nbformat_minor": 2
}
